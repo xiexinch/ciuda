{
 "cells": [
  {
   "cell_type": "code",
   "execution_count": 1,
   "metadata": {},
   "outputs": [],
   "source": [
    "import os.path as osp"
   ]
  },
  {
   "cell_type": "code",
   "execution_count": 8,
   "metadata": {},
   "outputs": [],
   "source": [
    "import mmcv\n",
    "import shutil"
   ]
  },
  {
   "cell_type": "code",
   "execution_count": 9,
   "metadata": {},
   "outputs": [],
   "source": [
    "pair_list_path = './configs/_base_/datasets/zurich_dn_pair_train.csv'\n",
    "data_root = 'data/dark_zurich'\n",
    "img_infos = []\n",
    "with open(pair_list_path, 'r') as f:\n",
    "    line = f.readline()\n",
    "    idx = 0\n",
    "    while line:\n",
    "        night, day = line.strip().split(',')\n",
    "        day_ = day + '_rgb_anon.png'\n",
    "        day_ = day_.replace('train/day', 'work_dirs/demos')\n",
    "        night_name = night+'_gt_labelTrainIds.png'\n",
    "\n",
    "        save_dir = 'work_dirs/' + night_name\n",
    "        mmcv.mkdir_or_exist(osp.dirname(save_dir))\n",
    "        \n",
    "        shutil.copy(day_, save_dir)\n",
    "\n",
    "\n",
    "\n",
    "        # img_infos[idx] = (day_info, night_info)\n",
    "        idx += 1\n",
    "        line = f.readline()"
   ]
  },
  {
   "cell_type": "code",
   "execution_count": null,
   "metadata": {},
   "outputs": [],
   "source": []
  }
 ],
 "metadata": {
  "interpreter": {
   "hash": "2f394aca7ca06fed1e6064aef884364492d7cdda3614a461e02e6407fc40ba69"
  },
  "kernelspec": {
   "display_name": "Python 3.8.10 ('base': conda)",
   "language": "python",
   "name": "python3"
  },
  "language_info": {
   "codemirror_mode": {
    "name": "ipython",
    "version": 3
   },
   "file_extension": ".py",
   "mimetype": "text/x-python",
   "name": "python",
   "nbconvert_exporter": "python",
   "pygments_lexer": "ipython3",
   "version": "3.8.10"
  },
  "orig_nbformat": 4
 },
 "nbformat": 4,
 "nbformat_minor": 2
}
